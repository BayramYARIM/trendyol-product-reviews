{
 "cells": [
  {
   "cell_type": "code",
   "execution_count": 1,
   "metadata": {
    "execution": {
     "iopub.execute_input": "2022-07-16T09:23:57.175294Z",
     "iopub.status.busy": "2022-07-16T09:23:57.174289Z",
     "iopub.status.idle": "2022-07-16T09:24:00.449238Z",
     "shell.execute_reply": "2022-07-16T09:24:00.448274Z",
     "shell.execute_reply.started": "2022-07-16T09:23:57.175153Z"
    }
   },
   "outputs": [
    {
     "name": "stderr",
     "output_type": "stream",
     "text": [
      "[nltk_data] Downloading package stopwords to\n",
      "[nltk_data]     C:\\Users\\ArgeLenovo\\AppData\\Roaming\\nltk_data...\n",
      "[nltk_data]   Package stopwords is already up-to-date!\n",
      "[nltk_data] Downloading package punkt to\n",
      "[nltk_data]     C:\\Users\\ArgeLenovo\\AppData\\Roaming\\nltk_data...\n",
      "[nltk_data]   Package punkt is already up-to-date!\n",
      "[nltk_data] Downloading package averaged_perceptron_tagger to\n",
      "[nltk_data]     C:\\Users\\ArgeLenovo\\AppData\\Roaming\\nltk_data...\n",
      "[nltk_data]   Package averaged_perceptron_tagger is already up-to-\n",
      "[nltk_data]       date!\n",
      "[nltk_data] Downloading package wordnet to\n",
      "[nltk_data]     C:\\Users\\ArgeLenovo\\AppData\\Roaming\\nltk_data...\n",
      "[nltk_data]   Package wordnet is already up-to-date!\n",
      "[nltk_data] Downloading package omw-1.4 to\n",
      "[nltk_data]     C:\\Users\\ArgeLenovo\\AppData\\Roaming\\nltk_data...\n",
      "[nltk_data]   Package omw-1.4 is already up-to-date!\n"
     ]
    }
   ],
   "source": [
    "# import Framework\n",
    "\n",
    "import sqlite3\n",
    "import pandas as pd\n",
    "from sklearn.utils import shuffle\n",
    "from sklearn.model_selection import train_test_split\n",
    "import numpy as np\n",
    "\n",
    "import re, string\n",
    "import nltk\n",
    "from nltk.tokenize import word_tokenize\n",
    "from nltk.corpus import stopwords\n",
    "from nltk.tokenize import word_tokenize\n",
    "from nltk.stem import SnowballStemmer\n",
    "from nltk.corpus import wordnet\n",
    "from nltk.stem import WordNetLemmatizer\n",
    "nltk.download('stopwords')\n",
    "nltk.download('punkt')\n",
    "nltk.download('averaged_perceptron_tagger')\n",
    "nltk.download('wordnet')\n",
    "nltk.download('omw-1.4')\n",
    "from sklearn.model_selection import train_test_split\n",
    "from sklearn.linear_model import LogisticRegression\n",
    "from sklearn.naive_bayes import MultinomialNB\n",
    "from sklearn.metrics import classification_report, f1_score, accuracy_score, confusion_matrix\n",
    "from sklearn.metrics import roc_curve, auc, roc_auc_score\n",
    "from sklearn.feature_extraction.text import TfidfVectorizer\n",
    "from sklearn.feature_extraction.text import CountVectorizer\n",
    "import gensim\n",
    "from gensim.models import Word2Vec"
   ]
  },
  {
   "cell_type": "markdown",
   "metadata": {},
   "source": [
    "### Data review"
   ]
  },
  {
   "cell_type": "code",
   "execution_count": 2,
   "metadata": {},
   "outputs": [
    {
     "data": {
      "text/html": [
       "<div>\n",
       "<style scoped>\n",
       "    .dataframe tbody tr th:only-of-type {\n",
       "        vertical-align: middle;\n",
       "    }\n",
       "\n",
       "    .dataframe tbody tr th {\n",
       "        vertical-align: top;\n",
       "    }\n",
       "\n",
       "    .dataframe thead th {\n",
       "        text-align: right;\n",
       "    }\n",
       "</style>\n",
       "<table border=\"1\" class=\"dataframe\">\n",
       "  <thead>\n",
       "    <tr style=\"text-align: right;\">\n",
       "      <th></th>\n",
       "      <th>Comment_Id</th>\n",
       "      <th>Product_Id</th>\n",
       "      <th>Comment_Content</th>\n",
       "      <th>Comment_Evaluation</th>\n",
       "    </tr>\n",
       "  </thead>\n",
       "  <tbody>\n",
       "    <tr>\n",
       "      <th>0</th>\n",
       "      <td>6244</td>\n",
       "      <td>266</td>\n",
       "      <td>cok guzel yaaaa</td>\n",
       "      <td>5</td>\n",
       "    </tr>\n",
       "    <tr>\n",
       "      <th>1</th>\n",
       "      <td>11562</td>\n",
       "      <td>523</td>\n",
       "      <td>Çok beğendik kaliteli güzel bi kumaşı var</td>\n",
       "      <td>5</td>\n",
       "    </tr>\n",
       "    <tr>\n",
       "      <th>2</th>\n",
       "      <td>30665</td>\n",
       "      <td>1602</td>\n",
       "      <td>Çok güzel 👍🏻</td>\n",
       "      <td>5</td>\n",
       "    </tr>\n",
       "    <tr>\n",
       "      <th>3</th>\n",
       "      <td>23735</td>\n",
       "      <td>1202</td>\n",
       "      <td>Hızlı teslimat.Yumuşacık,rahat ve bol gömlek</td>\n",
       "      <td>5</td>\n",
       "    </tr>\n",
       "    <tr>\n",
       "      <th>4</th>\n",
       "      <td>35448</td>\n",
       "      <td>2177</td>\n",
       "      <td>hiç guzel degil</td>\n",
       "      <td>1</td>\n",
       "    </tr>\n",
       "    <tr>\n",
       "      <th>...</th>\n",
       "      <td>...</td>\n",
       "      <td>...</td>\n",
       "      <td>...</td>\n",
       "      <td>...</td>\n",
       "    </tr>\n",
       "    <tr>\n",
       "      <th>43918</th>\n",
       "      <td>28507</td>\n",
       "      <td>1490</td>\n",
       "      <td>Süper 👏🏻👏🏻👏🏻 kalıbı duruşu</td>\n",
       "      <td>5</td>\n",
       "    </tr>\n",
       "    <tr>\n",
       "      <th>43919</th>\n",
       "      <td>28533</td>\n",
       "      <td>1491</td>\n",
       "      <td>Altıyla üstü arasında sanki 2 beden var. Üstün...</td>\n",
       "      <td>2</td>\n",
       "    </tr>\n",
       "    <tr>\n",
       "      <th>43920</th>\n",
       "      <td>19050</td>\n",
       "      <td>943</td>\n",
       "      <td>Dokusu harika yumaşacık harika tavsiye ediyorum</td>\n",
       "      <td>5</td>\n",
       "    </tr>\n",
       "    <tr>\n",
       "      <th>43921</th>\n",
       "      <td>19457</td>\n",
       "      <td>966</td>\n",
       "      <td>Ürün gayet güzeldi</td>\n",
       "      <td>5</td>\n",
       "    </tr>\n",
       "    <tr>\n",
       "      <th>43922</th>\n",
       "      <td>2905</td>\n",
       "      <td>115</td>\n",
       "      <td>Kaliteli ürün</td>\n",
       "      <td>5</td>\n",
       "    </tr>\n",
       "  </tbody>\n",
       "</table>\n",
       "<p>43923 rows × 4 columns</p>\n",
       "</div>"
      ],
      "text/plain": [
       "       Comment_Id  Product_Id  \\\n",
       "0            6244         266   \n",
       "1           11562         523   \n",
       "2           30665        1602   \n",
       "3           23735        1202   \n",
       "4           35448        2177   \n",
       "...           ...         ...   \n",
       "43918       28507        1490   \n",
       "43919       28533        1491   \n",
       "43920       19050         943   \n",
       "43921       19457         966   \n",
       "43922        2905         115   \n",
       "\n",
       "                                         Comment_Content  Comment_Evaluation  \n",
       "0                                        cok guzel yaaaa                   5  \n",
       "1              Çok beğendik kaliteli güzel bi kumaşı var                   5  \n",
       "2                                           Çok güzel 👍🏻                   5  \n",
       "3           Hızlı teslimat.Yumuşacık,rahat ve bol gömlek                   5  \n",
       "4                                        hiç guzel degil                   1  \n",
       "...                                                  ...                 ...  \n",
       "43918                         Süper 👏🏻👏🏻👏🏻 kalıbı duruşu                   5  \n",
       "43919  Altıyla üstü arasında sanki 2 beden var. Üstün...                   2  \n",
       "43920    Dokusu harika yumaşacık harika tavsiye ediyorum                   5  \n",
       "43921                                 Ürün gayet güzeldi                   5  \n",
       "43922                                      Kaliteli ürün                   5  \n",
       "\n",
       "[43923 rows x 4 columns]"
      ]
     },
     "execution_count": 2,
     "metadata": {},
     "output_type": "execute_result"
    }
   ],
   "source": [
    "# Veri seti çekilir\n",
    "df = pd.read_csv('data.csv')\n",
    "df"
   ]
  },
  {
   "cell_type": "code",
   "execution_count": 3,
   "metadata": {
    "execution": {
     "iopub.execute_input": "2022-07-16T09:24:11.197925Z",
     "iopub.status.busy": "2022-07-16T09:24:11.1976Z",
     "iopub.status.idle": "2022-07-16T09:24:11.213586Z",
     "shell.execute_reply": "2022-07-16T09:24:11.212199Z",
     "shell.execute_reply.started": "2022-07-16T09:24:11.197896Z"
    }
   },
   "outputs": [],
   "source": [
    "# gereksiz sutunlar silinir\n",
    "df.drop('Comment_Id', inplace=True, axis=1)\n",
    "df.drop('Product_Id', inplace=True, axis=1)"
   ]
  },
  {
   "cell_type": "code",
   "execution_count": 4,
   "metadata": {
    "execution": {
     "iopub.execute_input": "2022-07-16T09:24:11.910026Z",
     "iopub.status.busy": "2022-07-16T09:24:11.90961Z",
     "iopub.status.idle": "2022-07-16T09:24:11.923935Z",
     "shell.execute_reply": "2022-07-16T09:24:11.922569Z",
     "shell.execute_reply.started": "2022-07-16T09:24:11.909991Z"
    }
   },
   "outputs": [
    {
     "data": {
      "text/html": [
       "<div>\n",
       "<style scoped>\n",
       "    .dataframe tbody tr th:only-of-type {\n",
       "        vertical-align: middle;\n",
       "    }\n",
       "\n",
       "    .dataframe tbody tr th {\n",
       "        vertical-align: top;\n",
       "    }\n",
       "\n",
       "    .dataframe thead th {\n",
       "        text-align: right;\n",
       "    }\n",
       "</style>\n",
       "<table border=\"1\" class=\"dataframe\">\n",
       "  <thead>\n",
       "    <tr style=\"text-align: right;\">\n",
       "      <th></th>\n",
       "      <th>Comment_Content</th>\n",
       "      <th>Comment_Evaluation</th>\n",
       "    </tr>\n",
       "  </thead>\n",
       "  <tbody>\n",
       "    <tr>\n",
       "      <th>0</th>\n",
       "      <td>cok guzel yaaaa</td>\n",
       "      <td>5</td>\n",
       "    </tr>\n",
       "    <tr>\n",
       "      <th>1</th>\n",
       "      <td>Çok beğendik kaliteli güzel bi kumaşı var</td>\n",
       "      <td>5</td>\n",
       "    </tr>\n",
       "    <tr>\n",
       "      <th>2</th>\n",
       "      <td>Çok güzel 👍🏻</td>\n",
       "      <td>5</td>\n",
       "    </tr>\n",
       "    <tr>\n",
       "      <th>3</th>\n",
       "      <td>Hızlı teslimat.Yumuşacık,rahat ve bol gömlek</td>\n",
       "      <td>5</td>\n",
       "    </tr>\n",
       "    <tr>\n",
       "      <th>4</th>\n",
       "      <td>hiç guzel degil</td>\n",
       "      <td>1</td>\n",
       "    </tr>\n",
       "    <tr>\n",
       "      <th>...</th>\n",
       "      <td>...</td>\n",
       "      <td>...</td>\n",
       "    </tr>\n",
       "    <tr>\n",
       "      <th>43918</th>\n",
       "      <td>Süper 👏🏻👏🏻👏🏻 kalıbı duruşu</td>\n",
       "      <td>5</td>\n",
       "    </tr>\n",
       "    <tr>\n",
       "      <th>43919</th>\n",
       "      <td>Altıyla üstü arasında sanki 2 beden var. Üstün...</td>\n",
       "      <td>2</td>\n",
       "    </tr>\n",
       "    <tr>\n",
       "      <th>43920</th>\n",
       "      <td>Dokusu harika yumaşacık harika tavsiye ediyorum</td>\n",
       "      <td>5</td>\n",
       "    </tr>\n",
       "    <tr>\n",
       "      <th>43921</th>\n",
       "      <td>Ürün gayet güzeldi</td>\n",
       "      <td>5</td>\n",
       "    </tr>\n",
       "    <tr>\n",
       "      <th>43922</th>\n",
       "      <td>Kaliteli ürün</td>\n",
       "      <td>5</td>\n",
       "    </tr>\n",
       "  </tbody>\n",
       "</table>\n",
       "<p>43923 rows × 2 columns</p>\n",
       "</div>"
      ],
      "text/plain": [
       "                                         Comment_Content  Comment_Evaluation\n",
       "0                                        cok guzel yaaaa                   5\n",
       "1              Çok beğendik kaliteli güzel bi kumaşı var                   5\n",
       "2                                           Çok güzel 👍🏻                   5\n",
       "3           Hızlı teslimat.Yumuşacık,rahat ve bol gömlek                   5\n",
       "4                                        hiç guzel degil                   1\n",
       "...                                                  ...                 ...\n",
       "43918                         Süper 👏🏻👏🏻👏🏻 kalıbı duruşu                   5\n",
       "43919  Altıyla üstü arasında sanki 2 beden var. Üstün...                   2\n",
       "43920    Dokusu harika yumaşacık harika tavsiye ediyorum                   5\n",
       "43921                                 Ürün gayet güzeldi                   5\n",
       "43922                                      Kaliteli ürün                   5\n",
       "\n",
       "[43923 rows x 2 columns]"
      ]
     },
     "execution_count": 4,
     "metadata": {},
     "output_type": "execute_result"
    }
   ],
   "source": [
    "df"
   ]
  },
  {
   "cell_type": "code",
   "execution_count": 5,
   "metadata": {
    "execution": {
     "iopub.execute_input": "2022-07-16T09:24:12.50091Z",
     "iopub.status.busy": "2022-07-16T09:24:12.500532Z",
     "iopub.status.idle": "2022-07-16T09:24:12.656916Z",
     "shell.execute_reply": "2022-07-16T09:24:12.655637Z",
     "shell.execute_reply.started": "2022-07-16T09:24:12.500878Z"
    }
   },
   "outputs": [
    {
     "data": {
      "text/plain": [
       "<AxesSubplot:ylabel='Comment_Evaluation'>"
      ]
     },
     "execution_count": 5,
     "metadata": {},
     "output_type": "execute_result"
    },
    {
     "data": {
      "image/png": "[encoded data removed]",
      "text/plain": [
       "<Figure size 640x480 with 1 Axes>"
      ]
     },
     "metadata": {},
     "output_type": "display_data"
    }
   ],
   "source": [
    "# yorum yıldızlarının gorsellestirilmesi\n",
    "df['Comment_Evaluation'].value_counts().plot.pie()"
   ]
  },
  {
   "cell_type": "code",
   "execution_count": 6,
   "metadata": {
    "execution": {
     "iopub.execute_input": "2022-07-16T09:24:13.008315Z",
     "iopub.status.busy": "2022-07-16T09:24:13.007918Z",
     "iopub.status.idle": "2022-07-16T09:24:13.035064Z",
     "shell.execute_reply": "2022-07-16T09:24:13.034163Z",
     "shell.execute_reply.started": "2022-07-16T09:24:13.008279Z"
    }
   },
   "outputs": [],
   "source": [
    "df.drop(df.loc[df['Comment_Evaluation']==5][3000:22000].index, inplace=True)\n",
    "df.drop(df.loc[df['Comment_Evaluation']==4][1000:3000].index, inplace=True)"
   ]
  },
  {
   "cell_type": "code",
   "execution_count": 7,
   "metadata": {
    "execution": {
     "iopub.execute_input": "2022-07-16T09:24:15.039163Z",
     "iopub.status.busy": "2022-07-16T09:24:15.038561Z",
     "iopub.status.idle": "2022-07-16T09:24:15.146094Z",
     "shell.execute_reply": "2022-07-16T09:24:15.144824Z",
     "shell.execute_reply.started": "2022-07-16T09:24:15.03913Z"
    }
   },
   "outputs": [
    {
     "data": {
      "text/plain": [
       "<AxesSubplot:ylabel='Comment_Evaluation'>"
      ]
     },
     "execution_count": 7,
     "metadata": {},
     "output_type": "execute_result"
    },
    {
     "data": {
      "image/png": "[encoded data removed]",
      "text/plain": [
       "<Figure size 640x480 with 1 Axes>"
      ]
     },
     "metadata": {},
     "output_type": "display_data"
    }
   ],
   "source": [
    "df['Comment_Evaluation'].value_counts().plot.pie()"
   ]
  },
  {
   "cell_type": "code",
   "execution_count": 8,
   "metadata": {
    "execution": {
     "iopub.execute_input": "2022-07-16T09:24:18.462767Z",
     "iopub.status.busy": "2022-07-16T09:24:18.462397Z",
     "iopub.status.idle": "2022-07-16T09:24:18.470145Z",
     "shell.execute_reply": "2022-07-16T09:24:18.469232Z",
     "shell.execute_reply.started": "2022-07-16T09:24:18.462734Z"
    }
   },
   "outputs": [
    {
     "data": {
      "text/plain": [
       "22923"
      ]
     },
     "execution_count": 8,
     "metadata": {},
     "output_type": "execute_result"
    }
   ],
   "source": [
    "df['Comment_Evaluation'].count()"
   ]
  },
  {
   "cell_type": "markdown",
   "metadata": {},
   "source": [
    "### Data processing"
   ]
  },
  {
   "cell_type": "markdown",
   "metadata": {},
   "source": [
    "**0: Negative, 1: Positive**"
   ]
  },
  {
   "cell_type": "code",
   "execution_count": 9,
   "metadata": {
    "execution": {
     "iopub.execute_input": "2022-07-16T09:24:19.98855Z",
     "iopub.status.busy": "2022-07-16T09:24:19.987725Z",
     "iopub.status.idle": "2022-07-16T09:24:20.002643Z",
     "shell.execute_reply": "2022-07-16T09:24:20.00165Z",
     "shell.execute_reply.started": "2022-07-16T09:24:19.988516Z"
    }
   },
   "outputs": [
    {
     "data": {
      "text/html": [
       "<div>\n",
       "<style scoped>\n",
       "    .dataframe tbody tr th:only-of-type {\n",
       "        vertical-align: middle;\n",
       "    }\n",
       "\n",
       "    .dataframe tbody tr th {\n",
       "        vertical-align: top;\n",
       "    }\n",
       "\n",
       "    .dataframe thead th {\n",
       "        text-align: right;\n",
       "    }\n",
       "</style>\n",
       "<table border=\"1\" class=\"dataframe\">\n",
       "  <thead>\n",
       "    <tr style=\"text-align: right;\">\n",
       "      <th></th>\n",
       "      <th>Comment_Content</th>\n",
       "      <th>Comment_Evaluation</th>\n",
       "    </tr>\n",
       "  </thead>\n",
       "  <tbody>\n",
       "    <tr>\n",
       "      <th>0</th>\n",
       "      <td>cok guzel yaaaa</td>\n",
       "      <td>5</td>\n",
       "    </tr>\n",
       "    <tr>\n",
       "      <th>1</th>\n",
       "      <td>Çok beğendik kaliteli güzel bi kumaşı var</td>\n",
       "      <td>5</td>\n",
       "    </tr>\n",
       "    <tr>\n",
       "      <th>2</th>\n",
       "      <td>Çok güzel 👍🏻</td>\n",
       "      <td>5</td>\n",
       "    </tr>\n",
       "    <tr>\n",
       "      <th>3</th>\n",
       "      <td>Hızlı teslimat.Yumuşacık,rahat ve bol gömlek</td>\n",
       "      <td>5</td>\n",
       "    </tr>\n",
       "    <tr>\n",
       "      <th>4</th>\n",
       "      <td>hiç guzel degil</td>\n",
       "      <td>0</td>\n",
       "    </tr>\n",
       "    <tr>\n",
       "      <th>...</th>\n",
       "      <td>...</td>\n",
       "      <td>...</td>\n",
       "    </tr>\n",
       "    <tr>\n",
       "      <th>43918</th>\n",
       "      <td>Süper 👏🏻👏🏻👏🏻 kalıbı duruşu</td>\n",
       "      <td>5</td>\n",
       "    </tr>\n",
       "    <tr>\n",
       "      <th>43919</th>\n",
       "      <td>Altıyla üstü arasında sanki 2 beden var. Üstün...</td>\n",
       "      <td>0</td>\n",
       "    </tr>\n",
       "    <tr>\n",
       "      <th>43920</th>\n",
       "      <td>Dokusu harika yumaşacık harika tavsiye ediyorum</td>\n",
       "      <td>5</td>\n",
       "    </tr>\n",
       "    <tr>\n",
       "      <th>43921</th>\n",
       "      <td>Ürün gayet güzeldi</td>\n",
       "      <td>5</td>\n",
       "    </tr>\n",
       "    <tr>\n",
       "      <th>43922</th>\n",
       "      <td>Kaliteli ürün</td>\n",
       "      <td>5</td>\n",
       "    </tr>\n",
       "  </tbody>\n",
       "</table>\n",
       "<p>22923 rows × 2 columns</p>\n",
       "</div>"
      ],
      "text/plain": [
       "                                         Comment_Content  Comment_Evaluation\n",
       "0                                        cok guzel yaaaa                   5\n",
       "1              Çok beğendik kaliteli güzel bi kumaşı var                   5\n",
       "2                                           Çok güzel 👍🏻                   5\n",
       "3           Hızlı teslimat.Yumuşacık,rahat ve bol gömlek                   5\n",
       "4                                        hiç guzel degil                   0\n",
       "...                                                  ...                 ...\n",
       "43918                         Süper 👏🏻👏🏻👏🏻 kalıbı duruşu                   5\n",
       "43919  Altıyla üstü arasında sanki 2 beden var. Üstün...                   0\n",
       "43920    Dokusu harika yumaşacık harika tavsiye ediyorum                   5\n",
       "43921                                 Ürün gayet güzeldi                   5\n",
       "43922                                      Kaliteli ürün                   5\n",
       "\n",
       "[22923 rows x 2 columns]"
      ]
     },
     "execution_count": 9,
     "metadata": {},
     "output_type": "execute_result"
    }
   ],
   "source": [
    "df.loc[(df[\"Comment_Evaluation\"]<=3), \"Comment_Evaluation\"]=0\n",
    "df"
   ]
  },
  {
   "cell_type": "code",
   "execution_count": 10,
   "metadata": {
    "execution": {
     "iopub.execute_input": "2022-07-16T09:24:20.52831Z",
     "iopub.status.busy": "2022-07-16T09:24:20.527515Z",
     "iopub.status.idle": "2022-07-16T09:24:20.544425Z",
     "shell.execute_reply": "2022-07-16T09:24:20.543382Z",
     "shell.execute_reply.started": "2022-07-16T09:24:20.528273Z"
    }
   },
   "outputs": [
    {
     "data": {
      "text/html": [
       "<div>\n",
       "<style scoped>\n",
       "    .dataframe tbody tr th:only-of-type {\n",
       "        vertical-align: middle;\n",
       "    }\n",
       "\n",
       "    .dataframe tbody tr th {\n",
       "        vertical-align: top;\n",
       "    }\n",
       "\n",
       "    .dataframe thead th {\n",
       "        text-align: right;\n",
       "    }\n",
       "</style>\n",
       "<table border=\"1\" class=\"dataframe\">\n",
       "  <thead>\n",
       "    <tr style=\"text-align: right;\">\n",
       "      <th></th>\n",
       "      <th>Comment_Content</th>\n",
       "      <th>Comment_Evaluation</th>\n",
       "    </tr>\n",
       "  </thead>\n",
       "  <tbody>\n",
       "    <tr>\n",
       "      <th>0</th>\n",
       "      <td>cok guzel yaaaa</td>\n",
       "      <td>1</td>\n",
       "    </tr>\n",
       "    <tr>\n",
       "      <th>1</th>\n",
       "      <td>Çok beğendik kaliteli güzel bi kumaşı var</td>\n",
       "      <td>1</td>\n",
       "    </tr>\n",
       "    <tr>\n",
       "      <th>2</th>\n",
       "      <td>Çok güzel 👍🏻</td>\n",
       "      <td>1</td>\n",
       "    </tr>\n",
       "    <tr>\n",
       "      <th>3</th>\n",
       "      <td>Hızlı teslimat.Yumuşacık,rahat ve bol gömlek</td>\n",
       "      <td>1</td>\n",
       "    </tr>\n",
       "    <tr>\n",
       "      <th>4</th>\n",
       "      <td>hiç guzel degil</td>\n",
       "      <td>0</td>\n",
       "    </tr>\n",
       "    <tr>\n",
       "      <th>...</th>\n",
       "      <td>...</td>\n",
       "      <td>...</td>\n",
       "    </tr>\n",
       "    <tr>\n",
       "      <th>43918</th>\n",
       "      <td>Süper 👏🏻👏🏻👏🏻 kalıbı duruşu</td>\n",
       "      <td>1</td>\n",
       "    </tr>\n",
       "    <tr>\n",
       "      <th>43919</th>\n",
       "      <td>Altıyla üstü arasında sanki 2 beden var. Üstün...</td>\n",
       "      <td>0</td>\n",
       "    </tr>\n",
       "    <tr>\n",
       "      <th>43920</th>\n",
       "      <td>Dokusu harika yumaşacık harika tavsiye ediyorum</td>\n",
       "      <td>1</td>\n",
       "    </tr>\n",
       "    <tr>\n",
       "      <th>43921</th>\n",
       "      <td>Ürün gayet güzeldi</td>\n",
       "      <td>1</td>\n",
       "    </tr>\n",
       "    <tr>\n",
       "      <th>43922</th>\n",
       "      <td>Kaliteli ürün</td>\n",
       "      <td>1</td>\n",
       "    </tr>\n",
       "  </tbody>\n",
       "</table>\n",
       "<p>22923 rows × 2 columns</p>\n",
       "</div>"
      ],
      "text/plain": [
       "                                         Comment_Content  Comment_Evaluation\n",
       "0                                        cok guzel yaaaa                   1\n",
       "1              Çok beğendik kaliteli güzel bi kumaşı var                   1\n",
       "2                                           Çok güzel 👍🏻                   1\n",
       "3           Hızlı teslimat.Yumuşacık,rahat ve bol gömlek                   1\n",
       "4                                        hiç guzel degil                   0\n",
       "...                                                  ...                 ...\n",
       "43918                         Süper 👏🏻👏🏻👏🏻 kalıbı duruşu                   1\n",
       "43919  Altıyla üstü arasında sanki 2 beden var. Üstün...                   0\n",
       "43920    Dokusu harika yumaşacık harika tavsiye ediyorum                   1\n",
       "43921                                 Ürün gayet güzeldi                   1\n",
       "43922                                      Kaliteli ürün                   1\n",
       "\n",
       "[22923 rows x 2 columns]"
      ]
     },
     "execution_count": 10,
     "metadata": {},
     "output_type": "execute_result"
    }
   ],
   "source": [
    "df.loc[(df[\"Comment_Evaluation\"]>3), \"Comment_Evaluation\"]=1\n",
    "df"
   ]
  },
  {
   "cell_type": "code",
   "execution_count": 11,
   "metadata": {
    "execution": {
     "iopub.execute_input": "2022-07-16T09:24:21.228583Z",
     "iopub.status.busy": "2022-07-16T09:24:21.227919Z",
     "iopub.status.idle": "2022-07-16T09:24:21.289319Z",
     "shell.execute_reply": "2022-07-16T09:24:21.288502Z",
     "shell.execute_reply.started": "2022-07-16T09:24:21.228547Z"
    }
   },
   "outputs": [
    {
     "name": "stdout",
     "output_type": "stream",
     "text": [
      "9.10180166984034\n",
      "11.193332614089977\n"
     ]
    }
   ],
   "source": [
    "# Kelimeleri ayırma işlemleri ve sayısını/ortalamasını bulma\n",
    "df['word_count'] = df['Comment_Content'].apply(lambda x: len(str(x).split()))\n",
    "print(df[df['Comment_Evaluation']==1]['word_count'].mean()) #Positive comment\n",
    "print(df[df['Comment_Evaluation']==0]['word_count'].mean()) #Negative comment"
   ]
  },
  {
   "cell_type": "code",
   "execution_count": 12,
   "metadata": {
    "execution": {
     "iopub.execute_input": "2022-07-16T09:24:21.456878Z",
     "iopub.status.busy": "2022-07-16T09:24:21.456489Z",
     "iopub.status.idle": "2022-07-16T09:24:21.493995Z",
     "shell.execute_reply": "2022-07-16T09:24:21.492515Z",
     "shell.execute_reply.started": "2022-07-16T09:24:21.456847Z"
    }
   },
   "outputs": [
    {
     "name": "stdout",
     "output_type": "stream",
     "text": [
      "56.43327962501831\n",
      "70.73729636422483\n"
     ]
    }
   ],
   "source": [
    "# Karakterleri ayırma işlemleri ve sayısını/ortalamasını bulma\n",
    "df['char_count'] = df['Comment_Content'].apply(lambda x: len(str(x)))\n",
    "print(df[df['Comment_Evaluation']==1]['char_count'].mean()) #Positive comment\n",
    "print(df[df['Comment_Evaluation']==0]['char_count'].mean()) #Negative comment"
   ]
  },
  {
   "cell_type": "code",
   "execution_count": 13,
   "metadata": {
    "execution": {
     "iopub.execute_input": "2022-07-16T09:24:21.66878Z",
     "iopub.status.busy": "2022-07-16T09:24:21.668391Z",
     "iopub.status.idle": "2022-07-16T09:24:21.677189Z",
     "shell.execute_reply": "2022-07-16T09:24:21.675816Z",
     "shell.execute_reply.started": "2022-07-16T09:24:21.668746Z"
    }
   },
   "outputs": [],
   "source": [
    "# Regular Expression İşlemleri\n",
    "def preprocess(text):\n",
    "    text = text.lower() # Küçük harfe dönüştür \n",
    "    text = text.strip()  # Boşlukları silme işlemi\n",
    "    text = re.compile('<.*?>').sub('', text) # HTML taglarını kaldır\n",
    "    text = re.compile('[%s]' % re.escape(string.punctuation)).sub(' ', text)  #Noktalama işaretlerini boşlukla değiştir\n",
    "    text = re.sub('\\s+', ' ', text)  #Tab - boşluk karakterlerini boşlukla değiştir\n",
    "    text = re.sub(r'\\[[0-9]*\\]',' ',text) # Sayısal karakterleri kaldır\n",
    "    text = re.sub(r'[^\\w\\s]', '', str(text).lower().strip())\n",
    "    text = re.sub(r'\\d',' ',text)\n",
    "    text = re.sub(r'\\s+',' ',text) #\\s boşlukları eşleştir ve kaldır\n",
    "    \n",
    "    return text"
   ]
  },
  {
   "cell_type": "code",
   "execution_count": 14,
   "metadata": {
    "execution": {
     "iopub.execute_input": "2022-07-16T09:24:21.891865Z",
     "iopub.status.busy": "2022-07-16T09:24:21.891479Z",
     "iopub.status.idle": "2022-07-16T09:24:21.904788Z",
     "shell.execute_reply": "2022-07-16T09:24:21.903355Z",
     "shell.execute_reply.started": "2022-07-16T09:24:21.891835Z"
    }
   },
   "outputs": [],
   "source": [
    "#STOPWORD REMOVAL\n",
    "def stopword(string):\n",
    "    a= [i for i in string.split() if i not in stopwords.words('english')]\n",
    "    return ' '.join(a)\n",
    "\n",
    " \n",
    "# Stemmer İşlemleri\n",
    "# Stemming algoritmaları, ekli bir kelimede bulunabilen ortak ön eklerin ve son eklerin \n",
    "# bir listesini dikkate alarak kelimenin başlangıcını veya sonunu kesmeye çalışır.\n",
    "snow = SnowballStemmer('english')\n",
    "def stemming(string):\n",
    "    a=[snow.stem(i) for i in word_tokenize(string) ]\n",
    "    return \" \".join(a)\n",
    "\n",
    "\n",
    "# Lemmatizer işlemleri\n",
    "# Lemmatization ise kelimelerin morfolojik analizini dikkate alır.\n",
    "wl = WordNetLemmatizer()\n",
    " \n",
    "def get_wordnet_pos(tag):\n",
    "    if tag.startswith('J'):\n",
    "        return wordnet.ADJ\n",
    "    elif tag.startswith('V'):\n",
    "        return wordnet.VERB\n",
    "    elif tag.startswith('N'):\n",
    "        return wordnet.NOUN\n",
    "    elif tag.startswith('R'):\n",
    "        return wordnet.ADV\n",
    "    else:\n",
    "        return wordnet.NOUN\n",
    "\n",
    "def lemmatizer(string):\n",
    "    word_pos_tags = nltk.pos_tag(word_tokenize(string))\n",
    "    a=[wl.lemmatize(tag[0], get_wordnet_pos(tag[1])) for idx, tag in enumerate(word_pos_tags)]\n",
    "    return \" \".join(a)\n"
   ]
  },
  {
   "cell_type": "code",
   "execution_count": 15,
   "metadata": {
    "execution": {
     "iopub.execute_input": "2022-07-16T09:24:22.071001Z",
     "iopub.status.busy": "2022-07-16T09:24:22.070244Z",
     "iopub.status.idle": "2022-07-16T09:25:24.462372Z",
     "shell.execute_reply": "2022-07-16T09:25:24.461391Z",
     "shell.execute_reply.started": "2022-07-16T09:24:22.070946Z"
    }
   },
   "outputs": [
    {
     "data": {
      "text/html": [
       "<div>\n",
       "<style scoped>\n",
       "    .dataframe tbody tr th:only-of-type {\n",
       "        vertical-align: middle;\n",
       "    }\n",
       "\n",
       "    .dataframe tbody tr th {\n",
       "        vertical-align: top;\n",
       "    }\n",
       "\n",
       "    .dataframe thead th {\n",
       "        text-align: right;\n",
       "    }\n",
       "</style>\n",
       "<table border=\"1\" class=\"dataframe\">\n",
       "  <thead>\n",
       "    <tr style=\"text-align: right;\">\n",
       "      <th></th>\n",
       "      <th>Comment_Content</th>\n",
       "      <th>Comment_Evaluation</th>\n",
       "      <th>word_count</th>\n",
       "      <th>char_count</th>\n",
       "      <th>clean_text</th>\n",
       "    </tr>\n",
       "  </thead>\n",
       "  <tbody>\n",
       "    <tr>\n",
       "      <th>0</th>\n",
       "      <td>cok guzel yaaaa</td>\n",
       "      <td>1</td>\n",
       "      <td>3</td>\n",
       "      <td>15</td>\n",
       "      <td>cok guzel yaaaa</td>\n",
       "    </tr>\n",
       "    <tr>\n",
       "      <th>1</th>\n",
       "      <td>Çok beğendik kaliteli güzel bi kumaşı var</td>\n",
       "      <td>1</td>\n",
       "      <td>7</td>\n",
       "      <td>41</td>\n",
       "      <td>çok beğendik kaliteli güzel bi kumaşı var</td>\n",
       "    </tr>\n",
       "    <tr>\n",
       "      <th>2</th>\n",
       "      <td>Çok güzel 👍🏻</td>\n",
       "      <td>1</td>\n",
       "      <td>3</td>\n",
       "      <td>12</td>\n",
       "      <td>çok güzel</td>\n",
       "    </tr>\n",
       "    <tr>\n",
       "      <th>3</th>\n",
       "      <td>Hızlı teslimat.Yumuşacık,rahat ve bol gömlek</td>\n",
       "      <td>1</td>\n",
       "      <td>5</td>\n",
       "      <td>44</td>\n",
       "      <td>hızlı teslimat yumuşacık rahat bol gömlek</td>\n",
       "    </tr>\n",
       "    <tr>\n",
       "      <th>4</th>\n",
       "      <td>hiç guzel degil</td>\n",
       "      <td>0</td>\n",
       "      <td>3</td>\n",
       "      <td>15</td>\n",
       "      <td>hiç guzel degil</td>\n",
       "    </tr>\n",
       "  </tbody>\n",
       "</table>\n",
       "</div>"
      ],
      "text/plain": [
       "                                Comment_Content  Comment_Evaluation  \\\n",
       "0                               cok guzel yaaaa                   1   \n",
       "1     Çok beğendik kaliteli güzel bi kumaşı var                   1   \n",
       "2                                  Çok güzel 👍🏻                   1   \n",
       "3  Hızlı teslimat.Yumuşacık,rahat ve bol gömlek                   1   \n",
       "4                               hiç guzel degil                   0   \n",
       "\n",
       "   word_count  char_count                                 clean_text  \n",
       "0           3          15                            cok guzel yaaaa  \n",
       "1           7          41  çok beğendik kaliteli güzel bi kumaşı var  \n",
       "2           3          12                                  çok güzel  \n",
       "3           5          44  hızlı teslimat yumuşacık rahat bol gömlek  \n",
       "4           3          15                            hiç guzel degil  "
      ]
     },
     "execution_count": 15,
     "metadata": {},
     "output_type": "execute_result"
    }
   ],
   "source": [
    "#Final İşlemleri\n",
    "def finalpreprocess(string):\n",
    "    return lemmatizer(stopword(preprocess(string)))\n",
    "\n",
    "df['clean_text'] = df['Comment_Content'].apply(lambda x: finalpreprocess(x))\n",
    "df.head()"
   ]
  },
  {
   "cell_type": "code",
   "execution_count": 16,
   "metadata": {
    "execution": {
     "iopub.execute_input": "2022-07-16T09:25:24.464493Z",
     "iopub.status.busy": "2022-07-16T09:25:24.464093Z",
     "iopub.status.idle": "2022-07-16T09:25:30.381058Z",
     "shell.execute_reply": "2022-07-16T09:25:30.380003Z",
     "shell.execute_reply.started": "2022-07-16T09:25:24.464463Z"
    }
   },
   "outputs": [],
   "source": [
    "# Word2vec modelleme işlemleri\n",
    "df['clean_text_tok']=[nltk.word_tokenize(i) for i in df['clean_text']] #convert preprocessed sentence to tokenized sentence\n",
    "model = Word2Vec(df['clean_text_tok'],min_count=1)  #min_count=1 means word should be present at least across all documents,\n",
    "\n",
    "w2v = dict(zip(model.wv.index_to_key, model.wv.vectors)) \n",
    "\n",
    "# Word2Vec tarafından oluşturulan kelime vektörlerinden vektörlere/sayılara dönüştürmek işlemleri\n",
    "class MeanEmbeddingVectorizer(object):\n",
    "    def __init__(self, word2vec):\n",
    "        self.word2vec = word2vec\n",
    "        self.dim = len(next(iter(word2vec.values())))\n",
    "\n",
    "    def fit(self, X, y):\n",
    "        return self\n",
    "\n",
    "    def transform(self, X):\n",
    "        return np.array([\n",
    "            np.mean([self.word2vec[w] for w in words if w in self.word2vec]\n",
    "                    or [np.zeros(self.dim)], axis=0)\n",
    "            for words in X\n",
    "        ])"
   ]
  },
  {
   "cell_type": "code",
   "execution_count": 17,
   "metadata": {
    "execution": {
     "iopub.execute_input": "2022-07-16T09:25:30.382504Z",
     "iopub.status.busy": "2022-07-16T09:25:30.38219Z",
     "iopub.status.idle": "2022-07-16T09:25:35.462656Z",
     "shell.execute_reply": "2022-07-16T09:25:35.461426Z",
     "shell.execute_reply.started": "2022-07-16T09:25:30.382475Z"
    }
   },
   "outputs": [],
   "source": [
    "# Kelimeleri/Sözcükleri vektöre dönüştürme işlemleri\n",
    "X_train, X_val, y_train, y_val = train_test_split(df[\"clean_text\"],\n",
    "                                                  df[\"Comment_Evaluation\"],\n",
    "                                                  test_size=0.2,\n",
    "                                                  shuffle=True)\n",
    "\n",
    "# Word-Tokenize işlemleri\n",
    "X_train_tok= [nltk.word_tokenize(i) for i in X_train]  #for word2vec\n",
    "X_val_tok= [nltk.word_tokenize(i) for i in X_val]      #for word2vec\n",
    "\n",
    "tfidf_vectorizer = TfidfVectorizer(use_idf=True)\n",
    "X_train_vectors_tfidf = tfidf_vectorizer.fit_transform(X_train) \n",
    "X_val_vectors_tfidf = tfidf_vectorizer.transform(X_val)\n",
    "\n",
    "# Word2Vec -> Dönüşüm işlemleri\n",
    "modelw = MeanEmbeddingVectorizer(w2v)\n",
    "X_train_vectors_w2v = modelw.transform(X_train_tok)\n",
    "X_val_vectors_w2v = modelw.transform(X_val_tok)"
   ]
  },
  {
   "cell_type": "markdown",
   "metadata": {},
   "source": [
    "### Model.fit() Train"
   ]
  },
  {
   "cell_type": "code",
   "execution_count": 18,
   "metadata": {
    "execution": {
     "iopub.execute_input": "2022-07-16T09:25:35.465766Z",
     "iopub.status.busy": "2022-07-16T09:25:35.465378Z",
     "iopub.status.idle": "2022-07-16T09:25:35.693063Z",
     "shell.execute_reply": "2022-07-16T09:25:35.691944Z",
     "shell.execute_reply.started": "2022-07-16T09:25:35.465733Z"
    }
   },
   "outputs": [
    {
     "data": {
      "text/plain": [
       "LogisticRegression(C=10, solver='liblinear')"
      ]
     },
     "execution_count": 18,
     "metadata": {},
     "output_type": "execute_result"
    }
   ],
   "source": [
    "lr_tfidf=LogisticRegression(solver = 'liblinear', C=10, penalty = 'l2')\n",
    "lr_tfidf.fit(X_train_vectors_tfidf, y_train)  #model"
   ]
  },
  {
   "cell_type": "code",
   "execution_count": 19,
   "metadata": {
    "execution": {
     "iopub.execute_input": "2022-07-16T09:25:35.695536Z",
     "iopub.status.busy": "2022-07-16T09:25:35.694587Z",
     "iopub.status.idle": "2022-07-16T09:25:35.703554Z",
     "shell.execute_reply": "2022-07-16T09:25:35.702206Z",
     "shell.execute_reply.started": "2022-07-16T09:25:35.695492Z"
    }
   },
   "outputs": [],
   "source": [
    "y_predict = lr_tfidf.predict(X_val_vectors_tfidf)\n",
    "y_prob = lr_tfidf.predict_proba(X_val_vectors_tfidf)[:,1]"
   ]
  },
  {
   "cell_type": "code",
   "execution_count": 20,
   "metadata": {
    "execution": {
     "iopub.execute_input": "2022-07-16T09:25:35.706248Z",
     "iopub.status.busy": "2022-07-16T09:25:35.705562Z",
     "iopub.status.idle": "2022-07-16T09:25:35.743105Z",
     "shell.execute_reply": "2022-07-16T09:25:35.741823Z",
     "shell.execute_reply.started": "2022-07-16T09:25:35.706203Z"
    }
   },
   "outputs": [
    {
     "name": "stdout",
     "output_type": "stream",
     "text": [
      "              precision    recall  f1-score   support\n",
      "\n",
      "           0       0.80      0.77      0.79      1858\n",
      "           1       0.85      0.87      0.86      2727\n",
      "\n",
      "    accuracy                           0.83      4585\n",
      "   macro avg       0.82      0.82      0.82      4585\n",
      "weighted avg       0.83      0.83      0.83      4585\n",
      "\n",
      "Confusion Matrix: [[1432  426]\n",
      " [ 356 2371]]\n",
      "AUC: 0.8970102428255026\n"
     ]
    }
   ],
   "source": [
    "print(classification_report(y_val,y_predict))\n",
    "print('Confusion Matrix:',confusion_matrix(y_val, y_predict))\n",
    " \n",
    "fpr, tpr, thresholds = roc_curve(y_val, y_prob)\n",
    "roc_auc = auc(fpr, tpr)\n",
    "print('AUC:', roc_auc) "
   ]
  },
  {
   "cell_type": "code",
   "execution_count": 21,
   "metadata": {
    "execution": {
     "iopub.execute_input": "2022-07-16T09:25:35.746182Z",
     "iopub.status.busy": "2022-07-16T09:25:35.744814Z",
     "iopub.status.idle": "2022-07-16T09:25:35.76835Z",
     "shell.execute_reply": "2022-07-16T09:25:35.767168Z",
     "shell.execute_reply.started": "2022-07-16T09:25:35.746131Z"
    }
   },
   "outputs": [
    {
     "data": {
      "text/plain": [
       "MultinomialNB()"
      ]
     },
     "execution_count": 21,
     "metadata": {},
     "output_type": "execute_result"
    }
   ],
   "source": [
    "# Naive Bayes Algoritma İşlemleri - Modelleme\n",
    "# https://www.veribilimiokulu.com/naive-bayes-yontemiyle-siniflandirma-classification-with-naive-bayes-python-ile-uygulama/\n",
    "# https://miracozturk.com/python-ile-siniflandirma-analizleri-naive-bayes-algoritmasi/\n",
    "nb_tfidf = MultinomialNB()\n",
    "nb_tfidf.fit(X_train_vectors_tfidf, y_train)  #model"
   ]
  },
  {
   "cell_type": "code",
   "execution_count": 22,
   "metadata": {
    "execution": {
     "iopub.execute_input": "2022-07-16T09:25:35.771434Z",
     "iopub.status.busy": "2022-07-16T09:25:35.770092Z",
     "iopub.status.idle": "2022-07-16T09:25:35.78431Z",
     "shell.execute_reply": "2022-07-16T09:25:35.782716Z",
     "shell.execute_reply.started": "2022-07-16T09:25:35.771378Z"
    }
   },
   "outputs": [],
   "source": [
    "#Predict y value for test dataset\n",
    "y_predict = nb_tfidf.predict(X_val_vectors_tfidf)\n",
    "y_prob = nb_tfidf.predict_proba(X_val_vectors_tfidf)[:,1]"
   ]
  },
  {
   "cell_type": "code",
   "execution_count": 23,
   "metadata": {
    "execution": {
     "iopub.execute_input": "2022-07-16T09:25:35.788557Z",
     "iopub.status.busy": "2022-07-16T09:25:35.787293Z",
     "iopub.status.idle": "2022-07-16T09:25:35.81718Z",
     "shell.execute_reply": "2022-07-16T09:25:35.816306Z",
     "shell.execute_reply.started": "2022-07-16T09:25:35.78844Z"
    }
   },
   "outputs": [
    {
     "name": "stdout",
     "output_type": "stream",
     "text": [
      "              precision    recall  f1-score   support\n",
      "\n",
      "           0       0.85      0.66      0.74      1858\n",
      "           1       0.80      0.92      0.86      2727\n",
      "\n",
      "    accuracy                           0.82      4585\n",
      "   macro avg       0.83      0.79      0.80      4585\n",
      "weighted avg       0.82      0.82      0.81      4585\n",
      "\n",
      "Confusion Matrix: [[1223  635]\n",
      " [ 209 2518]]\n",
      "AUC: 0.8974507605048271\n"
     ]
    }
   ],
   "source": [
    "print(classification_report(y_val,y_predict))\n",
    "print('Confusion Matrix:',confusion_matrix(y_val, y_predict))\n",
    " \n",
    "fpr, tpr, thresholds = roc_curve(y_val, y_prob)\n",
    "roc_auc = auc(fpr, tpr)\n",
    "print('AUC:', roc_auc)  "
   ]
  },
  {
   "cell_type": "code",
   "execution_count": 24,
   "metadata": {
    "execution": {
     "iopub.execute_input": "2022-07-16T09:30:49.29978Z",
     "iopub.status.busy": "2022-07-16T09:30:49.298648Z",
     "iopub.status.idle": "2022-07-16T09:30:49.3077Z",
     "shell.execute_reply": "2022-07-16T09:30:49.306828Z",
     "shell.execute_reply.started": "2022-07-16T09:30:49.299736Z"
    }
   },
   "outputs": [],
   "source": [
    "def print_full(x):\n",
    "    pd.set_option('display.max_rows', None)\n",
    "    pd.set_option('display.max_columns', None)\n",
    "    pd.set_option('display.width', 2000)\n",
    "    pd.set_option('display.float_format', '{:20,.2f}'.format)\n",
    "    pd.set_option('display.max_colwidth', None)\n",
    "    print(x)\n",
    "    pd.reset_option('display.max_rows')\n",
    "    pd.reset_option('display.max_columns')\n",
    "    pd.reset_option('display.width')\n",
    "    pd.reset_option('display.float_format')\n",
    "    pd.reset_option('display.max_colwidth')"
   ]
  },
  {
   "cell_type": "code",
   "execution_count": 29,
   "metadata": {
    "execution": {
     "iopub.execute_input": "2022-07-16T09:35:50.750254Z",
     "iopub.status.busy": "2022-07-16T09:35:50.749853Z",
     "iopub.status.idle": "2022-07-16T09:35:50.781682Z",
     "shell.execute_reply": "2022-07-16T09:35:50.780301Z",
     "shell.execute_reply.started": "2022-07-16T09:35:50.750219Z"
    }
   },
   "outputs": [
    {
     "name": "stdout",
     "output_type": "stream",
     "text": [
      "                  clean_text            pred_prob          Pred\n",
      "0             hiç beğenmedim                 0.00  Negative (-)\n",
      "1  babama da almak istiyorum                 0.22  Negative (-)\n",
      "2         ürünü çok beğendim                 0.91  Positive (+)\n"
     ]
    }
   ],
   "source": [
    "d = {'Comment_Content': [\"hiç beğenmedim\", \"babama da almak istiyorum\", \"ürünü çok beğendim\", \"\"]}\n",
    "df_test=pd.DataFrame(d)\n",
    "\n",
    "\n",
    "df_test['clean_text'] = df_test['Comment_Content'].apply(lambda x: finalpreprocess(x)) #preprocess the data\n",
    "X_test=df_test['clean_text'] \n",
    "df_test.drop('Comment_Content', inplace=True, axis=1)\n",
    "X_vector=tfidf_vectorizer.transform(X_test) #converting X_test to vector\n",
    "y_predict = lr_tfidf.predict(X_vector)      #use the trained model on X_vector\n",
    "y_prob = lr_tfidf.predict_proba(X_vector)[:,1]\n",
    "df_test['pred_prob']= y_prob\n",
    "df_test['Pred']= y_predict\n",
    "df_test['Pred'] = np.where(df_test['Pred'] == 0,'Negative (-)', \"Positive (+)\")\n",
    "print_full(df_test)"
   ]
  },
  {
   "cell_type": "markdown",
   "metadata": {},
   "source": [
    "### Test"
   ]
  }
 ],
 "metadata": {
  "kernelspec": {
   "display_name": "Python 3 (ipykernel)",
   "language": "python",
   "name": "python3"
  },
  "language_info": {
   "codemirror_mode": {
    "name": "ipython",
    "version": 3
   },
   "file_extension": ".py",
   "mimetype": "text/x-python",
   "name": "python",
   "nbconvert_exporter": "python",
   "pygments_lexer": "ipython3",
   "version": "3.9.13"
  }
 },
 "nbformat": 4,
 "nbformat_minor": 4
}
